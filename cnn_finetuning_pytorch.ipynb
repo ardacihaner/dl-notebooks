{
 "cells": [
  {
   "cell_type": "markdown",
   "metadata": {
    "id": "kCgAUn7zW2F5"
   },
   "source": [
    "# Finetuning a CNN by using Pytorch"
   ]
  },
  {
   "cell_type": "markdown",
   "metadata": {
    "id": "2XcjfbAX0vEq"
   },
   "source": [
    "In this notebook, I will finetune a pretrained CNN model by using our given dataset. First, we need to import PyTorch and check whether a GPU is available. This code has been run on Google Colab using a GPU runtime."
   ]
  },
  {
   "cell_type": "code",
   "execution_count": 3,
   "metadata": {
    "colab": {
     "base_uri": "https://localhost:8080/"
    },
    "id": "-lLMVTYbW2F6",
    "outputId": "264092c3-1b39-48f4-f6cc-f10614c2c057"
   },
   "outputs": [
    {
     "name": "stdout",
     "output_type": "stream",
     "text": [
      "PyTorch Version:  1.10.0+cu111\n",
      "Using cuda device\n"
     ]
    }
   ],
   "source": [
    "import torch\n",
    "import torch.utils.data\n",
    "import torch.nn as nn\n",
    "import torch.optim as optim\n",
    "import torchvision\n",
    "from torchvision import models, datasets, transforms\n",
    "import matplotlib.pyplot as plt \n",
    "import copy\n",
    "\n",
    "print(\"PyTorch Version: \",torch.__version__)\n",
    "device = \"cuda\" if torch.cuda.is_available() else \"cpu\"\n",
    "print(f\"Using {device} device\")"
   ]
  },
  {
   "cell_type": "markdown",
   "metadata": {
    "id": "O--WZPtBW2F8"
   },
   "source": [
    "The code below is for mounting the Google Drive directory that stores the dataset."
   ]
  },
  {
   "cell_type": "code",
   "execution_count": 4,
   "metadata": {
    "colab": {
     "base_uri": "https://localhost:8080/"
    },
    "id": "s4FJ_YJAXc7V",
    "outputId": "6ce4cc78-4f34-4ab9-f123-6c0e43659d5d"
   },
   "outputs": [
    {
     "name": "stdout",
     "output_type": "stream",
     "text": [
      "Mounted at drive\n",
      "/content/drive/MyDrive/Colab Notebooks\n"
     ]
    }
   ],
   "source": [
    "from google.colab import drive\n",
    "drive.mount('drive', force_remount=True)\n",
    "%cd drive/MyDrive/Colab\\ Notebooks"
   ]
  },
  {
   "cell_type": "markdown",
   "metadata": {
    "id": "UZ5cSsZG1fPZ"
   },
   "source": [
    "Now, we're defining some hyperparameters. We selected the batch size as 64 because it turns out that's a sweet spot for our GPU constraints."
   ]
  },
  {
   "cell_type": "code",
   "execution_count": 5,
   "metadata": {
    "id": "mYyk3lIGW2F8"
   },
   "outputs": [],
   "source": [
    "batch_size = 64\n",
    "num_epochs = 2"
   ]
  },
  {
   "cell_type": "markdown",
   "metadata": {
    "id": "WBA10jNvW2F-"
   },
   "source": [
    "At this part, we split our dataset into train and test, and then we applied some transformations such as resizing and normalization."
   ]
  },
  {
   "cell_type": "code",
   "execution_count": 6,
   "metadata": {
    "id": "tWPningKW2F-"
   },
   "outputs": [],
   "source": [
    "data_dir = \"./images\"\n",
    "num_classes = 10\n",
    "\n",
    "transform = transforms.Compose(\n",
    "    [transforms.ToTensor(),\n",
    "     transforms.Resize((200, 200)),\n",
    "     transforms.Normalize((0.5, 0.5, 0.5), (0.5, 0.5, 0.5))])\n",
    "\n",
    "full_ds = torchvision.datasets.ImageFolder(\"./images\", transform=transform)\n",
    "train_size = int(0.8 * len(full_ds))\n",
    "test_size = len(full_ds) - train_size\n",
    "train_ds, test_ds = torch.utils.data.random_split(full_ds, [train_size, test_size])\n",
    "trainloader = torch.utils.data.DataLoader(train_ds, batch_size=batch_size, shuffle=True, num_workers=2)\n",
    "testloader = torch.utils.data.DataLoader(test_ds, batch_size=batch_size, shuffle=True, num_workers=2)\n",
    "\n",
    "classes = [\"butterfly\", \"cat\", \"chicken\", \"cow\", \"dog\", \"elephant\", \"horse\", \"sheep\", \"spider\", \"squirrel\"]"
   ]
  },
  {
   "cell_type": "markdown",
   "metadata": {
    "id": "f8F4gbBw2HML"
   },
   "source": [
    "Now, we're downloading the VGG19 model with pretrained weights, and then copying it into another variable, \"model_ft_all\". \n",
    "At this experiment, we'll have two neural networks:\n",
    "\n",
    "\n",
    "1.   \"model\": The weights of only two last fully connected (FC1 and FC2) layers will be finetuned.\n",
    "2.   \"model_ft_all\": The weights of all layers will be finetuned\n",
    "\n"
   ]
  },
  {
   "cell_type": "code",
   "execution_count": 11,
   "metadata": {
    "colab": {
     "base_uri": "https://localhost:8080/"
    },
    "id": "LQMngIyXW2GA",
    "outputId": "2b1bc243-aa9c-48e0-b8c7-467809546fcb"
   },
   "outputs": [
    {
     "name": "stdout",
     "output_type": "stream",
     "text": [
      "VGG(\n",
      "  (features): Sequential(\n",
      "    (0): Conv2d(3, 64, kernel_size=(3, 3), stride=(1, 1), padding=(1, 1))\n",
      "    (1): ReLU(inplace=True)\n",
      "    (2): Conv2d(64, 64, kernel_size=(3, 3), stride=(1, 1), padding=(1, 1))\n",
      "    (3): ReLU(inplace=True)\n",
      "    (4): MaxPool2d(kernel_size=2, stride=2, padding=0, dilation=1, ceil_mode=False)\n",
      "    (5): Conv2d(64, 128, kernel_size=(3, 3), stride=(1, 1), padding=(1, 1))\n",
      "    (6): ReLU(inplace=True)\n",
      "    (7): Conv2d(128, 128, kernel_size=(3, 3), stride=(1, 1), padding=(1, 1))\n",
      "    (8): ReLU(inplace=True)\n",
      "    (9): MaxPool2d(kernel_size=2, stride=2, padding=0, dilation=1, ceil_mode=False)\n",
      "    (10): Conv2d(128, 256, kernel_size=(3, 3), stride=(1, 1), padding=(1, 1))\n",
      "    (11): ReLU(inplace=True)\n",
      "    (12): Conv2d(256, 256, kernel_size=(3, 3), stride=(1, 1), padding=(1, 1))\n",
      "    (13): ReLU(inplace=True)\n",
      "    (14): Conv2d(256, 256, kernel_size=(3, 3), stride=(1, 1), padding=(1, 1))\n",
      "    (15): ReLU(inplace=True)\n",
      "    (16): Conv2d(256, 256, kernel_size=(3, 3), stride=(1, 1), padding=(1, 1))\n",
      "    (17): ReLU(inplace=True)\n",
      "    (18): MaxPool2d(kernel_size=2, stride=2, padding=0, dilation=1, ceil_mode=False)\n",
      "    (19): Conv2d(256, 512, kernel_size=(3, 3), stride=(1, 1), padding=(1, 1))\n",
      "    (20): ReLU(inplace=True)\n",
      "    (21): Conv2d(512, 512, kernel_size=(3, 3), stride=(1, 1), padding=(1, 1))\n",
      "    (22): ReLU(inplace=True)\n",
      "    (23): Conv2d(512, 512, kernel_size=(3, 3), stride=(1, 1), padding=(1, 1))\n",
      "    (24): ReLU(inplace=True)\n",
      "    (25): Conv2d(512, 512, kernel_size=(3, 3), stride=(1, 1), padding=(1, 1))\n",
      "    (26): ReLU(inplace=True)\n",
      "    (27): MaxPool2d(kernel_size=2, stride=2, padding=0, dilation=1, ceil_mode=False)\n",
      "    (28): Conv2d(512, 512, kernel_size=(3, 3), stride=(1, 1), padding=(1, 1))\n",
      "    (29): ReLU(inplace=True)\n",
      "    (30): Conv2d(512, 512, kernel_size=(3, 3), stride=(1, 1), padding=(1, 1))\n",
      "    (31): ReLU(inplace=True)\n",
      "    (32): Conv2d(512, 512, kernel_size=(3, 3), stride=(1, 1), padding=(1, 1))\n",
      "    (33): ReLU(inplace=True)\n",
      "    (34): Conv2d(512, 512, kernel_size=(3, 3), stride=(1, 1), padding=(1, 1))\n",
      "    (35): ReLU(inplace=True)\n",
      "    (36): MaxPool2d(kernel_size=2, stride=2, padding=0, dilation=1, ceil_mode=False)\n",
      "  )\n",
      "  (avgpool): AdaptiveAvgPool2d(output_size=(7, 7))\n",
      "  (classifier): Sequential(\n",
      "    (0): Linear(in_features=25088, out_features=4096, bias=True)\n",
      "    (1): ReLU(inplace=True)\n",
      "    (2): Dropout(p=0.5, inplace=False)\n",
      "    (3): Linear(in_features=4096, out_features=4096, bias=True)\n",
      "    (4): ReLU(inplace=True)\n",
      "    (5): Dropout(p=0.5, inplace=False)\n",
      "    (6): Linear(in_features=4096, out_features=1000, bias=True)\n",
      "  )\n",
      ")\n"
     ]
    }
   ],
   "source": [
    "model = models.vgg19(pretrained=True, progress=True)\n",
    "model_ft_all = copy.deepcopy(model)\n",
    "criterion = nn.CrossEntropyLoss()\n",
    "print(model)"
   ]
  },
  {
   "cell_type": "markdown",
   "metadata": {
    "id": "yDWZRXVA27Wc"
   },
   "source": [
    "First, we assign all parameters of the \"model\" network as not to be finetuned, because we're only interested in finetuning the last layers of that network.\n",
    "Then, we replace the last layer of both networks for classifying a set of 10 labels, in the end, we send those networks into our GPU device."
   ]
  },
  {
   "cell_type": "code",
   "execution_count": 12,
   "metadata": {
    "colab": {
     "base_uri": "https://localhost:8080/"
    },
    "id": "jJqbekoUW2GA",
    "outputId": "3a29f787-5305-4673-cbb3-9e4e6305109f"
   },
   "outputs": [
    {
     "data": {
      "text/plain": [
       "VGG(\n",
       "  (features): Sequential(\n",
       "    (0): Conv2d(3, 64, kernel_size=(3, 3), stride=(1, 1), padding=(1, 1))\n",
       "    (1): ReLU(inplace=True)\n",
       "    (2): Conv2d(64, 64, kernel_size=(3, 3), stride=(1, 1), padding=(1, 1))\n",
       "    (3): ReLU(inplace=True)\n",
       "    (4): MaxPool2d(kernel_size=2, stride=2, padding=0, dilation=1, ceil_mode=False)\n",
       "    (5): Conv2d(64, 128, kernel_size=(3, 3), stride=(1, 1), padding=(1, 1))\n",
       "    (6): ReLU(inplace=True)\n",
       "    (7): Conv2d(128, 128, kernel_size=(3, 3), stride=(1, 1), padding=(1, 1))\n",
       "    (8): ReLU(inplace=True)\n",
       "    (9): MaxPool2d(kernel_size=2, stride=2, padding=0, dilation=1, ceil_mode=False)\n",
       "    (10): Conv2d(128, 256, kernel_size=(3, 3), stride=(1, 1), padding=(1, 1))\n",
       "    (11): ReLU(inplace=True)\n",
       "    (12): Conv2d(256, 256, kernel_size=(3, 3), stride=(1, 1), padding=(1, 1))\n",
       "    (13): ReLU(inplace=True)\n",
       "    (14): Conv2d(256, 256, kernel_size=(3, 3), stride=(1, 1), padding=(1, 1))\n",
       "    (15): ReLU(inplace=True)\n",
       "    (16): Conv2d(256, 256, kernel_size=(3, 3), stride=(1, 1), padding=(1, 1))\n",
       "    (17): ReLU(inplace=True)\n",
       "    (18): MaxPool2d(kernel_size=2, stride=2, padding=0, dilation=1, ceil_mode=False)\n",
       "    (19): Conv2d(256, 512, kernel_size=(3, 3), stride=(1, 1), padding=(1, 1))\n",
       "    (20): ReLU(inplace=True)\n",
       "    (21): Conv2d(512, 512, kernel_size=(3, 3), stride=(1, 1), padding=(1, 1))\n",
       "    (22): ReLU(inplace=True)\n",
       "    (23): Conv2d(512, 512, kernel_size=(3, 3), stride=(1, 1), padding=(1, 1))\n",
       "    (24): ReLU(inplace=True)\n",
       "    (25): Conv2d(512, 512, kernel_size=(3, 3), stride=(1, 1), padding=(1, 1))\n",
       "    (26): ReLU(inplace=True)\n",
       "    (27): MaxPool2d(kernel_size=2, stride=2, padding=0, dilation=1, ceil_mode=False)\n",
       "    (28): Conv2d(512, 512, kernel_size=(3, 3), stride=(1, 1), padding=(1, 1))\n",
       "    (29): ReLU(inplace=True)\n",
       "    (30): Conv2d(512, 512, kernel_size=(3, 3), stride=(1, 1), padding=(1, 1))\n",
       "    (31): ReLU(inplace=True)\n",
       "    (32): Conv2d(512, 512, kernel_size=(3, 3), stride=(1, 1), padding=(1, 1))\n",
       "    (33): ReLU(inplace=True)\n",
       "    (34): Conv2d(512, 512, kernel_size=(3, 3), stride=(1, 1), padding=(1, 1))\n",
       "    (35): ReLU(inplace=True)\n",
       "    (36): MaxPool2d(kernel_size=2, stride=2, padding=0, dilation=1, ceil_mode=False)\n",
       "  )\n",
       "  (avgpool): AdaptiveAvgPool2d(output_size=(7, 7))\n",
       "  (classifier): Sequential(\n",
       "    (0): Linear(in_features=25088, out_features=4096, bias=True)\n",
       "    (1): ReLU(inplace=True)\n",
       "    (2): Dropout(p=0.5, inplace=False)\n",
       "    (3): Linear(in_features=4096, out_features=4096, bias=True)\n",
       "    (4): ReLU(inplace=True)\n",
       "    (5): Dropout(p=0.5, inplace=False)\n",
       "    (6): Linear(in_features=4096, out_features=10, bias=True)\n",
       "  )\n",
       ")"
      ]
     },
     "execution_count": 12,
     "metadata": {},
     "output_type": "execute_result"
    }
   ],
   "source": [
    "for param in model.parameters():\n",
    "  param.requires_grad = False\n",
    "\n",
    "model.classifier[6] = torch.nn.Linear(4096, num_classes)\n",
    "model_ft_all.classifier[6] = torch.nn.Linear(4096, num_classes)\n",
    "model.to(device)\n",
    "model_ft_all.to(device)"
   ]
  },
  {
   "cell_type": "markdown",
   "metadata": {
    "id": "b2gbpxx8W2GA"
   },
   "source": [
    "At this part, we specify which layers of those networks will be finetuned, and then we define the corresponding optimizer."
   ]
  },
  {
   "cell_type": "code",
   "execution_count": 13,
   "metadata": {
    "id": "Tg4AWcThLm08"
   },
   "outputs": [],
   "source": [
    "params_to_update = []\n",
    "params_to_update_ftall = []\n",
    "for name,param in model.named_parameters():\n",
    "  if name.startswith(\"classifier\"):\n",
    "    param.required_grad = True\n",
    "    params_to_update.append(param)\n",
    "  elif param.requires_grad == True:\n",
    "    params_to_update.append(param)\n",
    "for name,param in model_ft_all.named_parameters():\n",
    "  if param.requires_grad == True:\n",
    "    params_to_update_ftall.append(param)\n",
    "\n",
    "optimizer = optim.SGD(params_to_update, lr=0.001, momentum=0.9)\n",
    "optimizer_ft_all = optim.SGD(params_to_update_ftall, lr=0.001, momentum=0.9)\n"
   ]
  },
  {
   "cell_type": "markdown",
   "metadata": {
    "id": "D3ees8eJ4foN"
   },
   "source": [
    "At this part, we define our training function."
   ]
  },
  {
   "cell_type": "code",
   "execution_count": 14,
   "metadata": {
    "id": "BfmbD0eJ391P"
   },
   "outputs": [],
   "source": [
    "def train_model(model, dataloader, optimizer, num_epochs):\n",
    "    for epoch in range(num_epochs):\n",
    "        curr_loss = 0.0\n",
    "        model.train() # setting the model for training\n",
    "        for i, data in enumerate(dataloader): # iterating over dataset\n",
    "          inputs, labels = data\n",
    "          inputs = inputs.to(device) # sending the input tensor into GPU\n",
    "          labels = labels.to(device) \n",
    "          optimizer.zero_grad()\n",
    "\n",
    "          outputs = model(inputs) # forward pass\n",
    "          loss = criterion(outputs, labels)\n",
    "          loss.backward() # backpropagation\n",
    "          optimizer.step()\n",
    "          curr_loss += loss.item()\n",
    "          if i % 5 == 4:    # print every 5 mini-batches\n",
    "              print('[%d, %5d] loss: %.3f' %\n",
    "                    (epoch + 1, i + 1, curr_loss / 2000))\n",
    "              curr_loss = 0.0\n"
   ]
  },
  {
   "cell_type": "markdown",
   "metadata": {
    "id": "w6JVcD3J4j4u"
   },
   "source": [
    "Now, it's time to start the finetuning process for both models. This part might take a long time. In our case, it took 52 minutes on Google Colab GPU runtime."
   ]
  },
  {
   "cell_type": "code",
   "execution_count": 15,
   "metadata": {
    "colab": {
     "base_uri": "https://localhost:8080/"
    },
    "id": "YmEIzYl3W2GB",
    "outputId": "529b08f3-9b1e-49ee-b52a-9c5fbf595af7"
   },
   "outputs": [
    {
     "name": "stdout",
     "output_type": "stream",
     "text": [
      "[1,     5] loss: 0.006\n",
      "[1,    10] loss: 0.004\n",
      "[1,    15] loss: 0.003\n",
      "[1,    20] loss: 0.002\n",
      "[1,    25] loss: 0.002\n",
      "[1,    30] loss: 0.001\n",
      "[1,    35] loss: 0.001\n",
      "[1,    40] loss: 0.001\n",
      "[1,    45] loss: 0.001\n",
      "[1,    50] loss: 0.001\n",
      "[1,    55] loss: 0.001\n",
      "[1,    60] loss: 0.001\n",
      "[1,    65] loss: 0.001\n",
      "[1,    70] loss: 0.001\n",
      "[1,    75] loss: 0.001\n",
      "[1,    80] loss: 0.001\n",
      "[1,    85] loss: 0.001\n",
      "[1,    90] loss: 0.001\n",
      "[1,    95] loss: 0.001\n",
      "[1,   100] loss: 0.001\n",
      "[1,   105] loss: 0.001\n",
      "[1,   110] loss: 0.001\n",
      "[1,   115] loss: 0.001\n",
      "[1,   120] loss: 0.001\n",
      "[1,   125] loss: 0.001\n",
      "[1,   130] loss: 0.001\n",
      "[1,   135] loss: 0.001\n",
      "[1,   140] loss: 0.001\n",
      "[1,   145] loss: 0.001\n",
      "[1,   150] loss: 0.001\n",
      "[1,   155] loss: 0.001\n",
      "[1,   160] loss: 0.001\n",
      "[1,   165] loss: 0.001\n",
      "[1,   170] loss: 0.001\n",
      "[1,   175] loss: 0.001\n",
      "[1,   180] loss: 0.001\n",
      "[1,   185] loss: 0.000\n",
      "[1,   190] loss: 0.001\n",
      "[1,   195] loss: 0.001\n",
      "[1,   200] loss: 0.001\n",
      "[1,   205] loss: 0.001\n",
      "[1,   210] loss: 0.001\n",
      "[1,   215] loss: 0.001\n",
      "[1,   220] loss: 0.001\n",
      "[1,   225] loss: 0.001\n",
      "[1,   230] loss: 0.001\n",
      "[1,   235] loss: 0.001\n",
      "[1,   240] loss: 0.000\n",
      "[1,   245] loss: 0.000\n",
      "[1,   250] loss: 0.001\n",
      "[1,   255] loss: 0.000\n",
      "[1,   260] loss: 0.001\n",
      "[1,   265] loss: 0.000\n",
      "[1,   270] loss: 0.001\n",
      "[1,   275] loss: 0.001\n",
      "[1,   280] loss: 0.001\n",
      "[1,   285] loss: 0.001\n",
      "[1,   290] loss: 0.001\n",
      "[1,   295] loss: 0.001\n",
      "[1,   300] loss: 0.001\n",
      "[1,   305] loss: 0.001\n",
      "[1,   310] loss: 0.001\n",
      "[1,   315] loss: 0.001\n",
      "[1,   320] loss: 0.001\n",
      "[1,   325] loss: 0.001\n",
      "[2,     5] loss: 0.000\n",
      "[2,    10] loss: 0.001\n",
      "[2,    15] loss: 0.000\n",
      "[2,    20] loss: 0.000\n",
      "[2,    25] loss: 0.001\n",
      "[2,    30] loss: 0.001\n",
      "[2,    35] loss: 0.000\n",
      "[2,    40] loss: 0.001\n",
      "[2,    45] loss: 0.001\n",
      "[2,    50] loss: 0.000\n",
      "[2,    55] loss: 0.001\n",
      "[2,    60] loss: 0.001\n",
      "[2,    65] loss: 0.001\n",
      "[2,    70] loss: 0.000\n",
      "[2,    75] loss: 0.001\n",
      "[2,    80] loss: 0.001\n",
      "[2,    85] loss: 0.001\n",
      "[2,    90] loss: 0.001\n",
      "[2,    95] loss: 0.001\n",
      "[2,   100] loss: 0.000\n",
      "[2,   105] loss: 0.000\n",
      "[2,   110] loss: 0.000\n",
      "[2,   115] loss: 0.000\n",
      "[2,   120] loss: 0.001\n",
      "[2,   125] loss: 0.000\n",
      "[2,   130] loss: 0.000\n",
      "[2,   135] loss: 0.001\n",
      "[2,   140] loss: 0.001\n",
      "[2,   145] loss: 0.000\n",
      "[2,   150] loss: 0.000\n",
      "[2,   155] loss: 0.001\n",
      "[2,   160] loss: 0.000\n",
      "[2,   165] loss: 0.000\n",
      "[2,   170] loss: 0.000\n",
      "[2,   175] loss: 0.001\n",
      "[2,   180] loss: 0.001\n",
      "[2,   185] loss: 0.001\n",
      "[2,   190] loss: 0.001\n",
      "[2,   195] loss: 0.000\n",
      "[2,   200] loss: 0.001\n",
      "[2,   205] loss: 0.001\n",
      "[2,   210] loss: 0.001\n",
      "[2,   215] loss: 0.000\n",
      "[2,   220] loss: 0.001\n",
      "[2,   225] loss: 0.001\n",
      "[2,   230] loss: 0.001\n",
      "[2,   235] loss: 0.000\n",
      "[2,   240] loss: 0.000\n",
      "[2,   245] loss: 0.001\n",
      "[2,   250] loss: 0.001\n",
      "[2,   255] loss: 0.000\n",
      "[2,   260] loss: 0.001\n",
      "[2,   265] loss: 0.001\n",
      "[2,   270] loss: 0.000\n",
      "[2,   275] loss: 0.001\n",
      "[2,   280] loss: 0.000\n",
      "[2,   285] loss: 0.001\n",
      "[2,   290] loss: 0.001\n",
      "[2,   295] loss: 0.000\n",
      "[2,   300] loss: 0.000\n",
      "[2,   305] loss: 0.001\n",
      "[2,   310] loss: 0.000\n",
      "[2,   315] loss: 0.000\n",
      "[2,   320] loss: 0.000\n",
      "[2,   325] loss: 0.000\n",
      "[1,     5] loss: 0.006\n",
      "[1,    10] loss: 0.004\n",
      "[1,    15] loss: 0.002\n",
      "[1,    20] loss: 0.001\n",
      "[1,    25] loss: 0.001\n",
      "[1,    30] loss: 0.001\n",
      "[1,    35] loss: 0.001\n",
      "[1,    40] loss: 0.001\n",
      "[1,    45] loss: 0.001\n",
      "[1,    50] loss: 0.001\n",
      "[1,    55] loss: 0.001\n",
      "[1,    60] loss: 0.001\n",
      "[1,    65] loss: 0.000\n",
      "[1,    70] loss: 0.001\n",
      "[1,    75] loss: 0.001\n",
      "[1,    80] loss: 0.000\n",
      "[1,    85] loss: 0.001\n",
      "[1,    90] loss: 0.000\n",
      "[1,    95] loss: 0.000\n",
      "[1,   100] loss: 0.000\n",
      "[1,   105] loss: 0.000\n",
      "[1,   110] loss: 0.001\n",
      "[1,   115] loss: 0.001\n",
      "[1,   120] loss: 0.000\n",
      "[1,   125] loss: 0.000\n",
      "[1,   130] loss: 0.001\n",
      "[1,   135] loss: 0.000\n",
      "[1,   140] loss: 0.000\n",
      "[1,   145] loss: 0.001\n",
      "[1,   150] loss: 0.000\n",
      "[1,   155] loss: 0.000\n",
      "[1,   160] loss: 0.000\n",
      "[1,   165] loss: 0.000\n",
      "[1,   170] loss: 0.000\n",
      "[1,   175] loss: 0.000\n",
      "[1,   180] loss: 0.000\n",
      "[1,   185] loss: 0.000\n",
      "[1,   190] loss: 0.000\n",
      "[1,   195] loss: 0.000\n",
      "[1,   200] loss: 0.000\n",
      "[1,   205] loss: 0.000\n",
      "[1,   210] loss: 0.000\n",
      "[1,   215] loss: 0.000\n",
      "[1,   220] loss: 0.000\n",
      "[1,   225] loss: 0.000\n",
      "[1,   230] loss: 0.000\n",
      "[1,   235] loss: 0.000\n",
      "[1,   240] loss: 0.001\n",
      "[1,   245] loss: 0.000\n",
      "[1,   250] loss: 0.000\n",
      "[1,   255] loss: 0.001\n",
      "[1,   260] loss: 0.000\n",
      "[1,   265] loss: 0.000\n",
      "[1,   270] loss: 0.000\n",
      "[1,   275] loss: 0.000\n",
      "[1,   280] loss: 0.001\n",
      "[1,   285] loss: 0.000\n",
      "[1,   290] loss: 0.001\n",
      "[1,   295] loss: 0.000\n",
      "[1,   300] loss: 0.000\n",
      "[1,   305] loss: 0.000\n",
      "[1,   310] loss: 0.000\n",
      "[1,   315] loss: 0.000\n",
      "[1,   320] loss: 0.000\n",
      "[1,   325] loss: 0.000\n",
      "[2,     5] loss: 0.000\n",
      "[2,    10] loss: 0.000\n",
      "[2,    15] loss: 0.000\n",
      "[2,    20] loss: 0.000\n",
      "[2,    25] loss: 0.000\n",
      "[2,    30] loss: 0.000\n",
      "[2,    35] loss: 0.000\n",
      "[2,    40] loss: 0.000\n",
      "[2,    45] loss: 0.000\n",
      "[2,    50] loss: 0.000\n",
      "[2,    55] loss: 0.000\n",
      "[2,    60] loss: 0.000\n",
      "[2,    65] loss: 0.000\n",
      "[2,    70] loss: 0.000\n",
      "[2,    75] loss: 0.000\n",
      "[2,    80] loss: 0.000\n",
      "[2,    85] loss: 0.000\n",
      "[2,    90] loss: 0.000\n",
      "[2,    95] loss: 0.000\n",
      "[2,   100] loss: 0.000\n",
      "[2,   105] loss: 0.000\n",
      "[2,   110] loss: 0.000\n",
      "[2,   115] loss: 0.000\n",
      "[2,   120] loss: 0.000\n",
      "[2,   125] loss: 0.000\n",
      "[2,   130] loss: 0.000\n",
      "[2,   135] loss: 0.000\n",
      "[2,   140] loss: 0.000\n",
      "[2,   145] loss: 0.000\n",
      "[2,   150] loss: 0.000\n",
      "[2,   155] loss: 0.000\n",
      "[2,   160] loss: 0.000\n",
      "[2,   165] loss: 0.000\n",
      "[2,   170] loss: 0.000\n",
      "[2,   175] loss: 0.000\n",
      "[2,   180] loss: 0.000\n",
      "[2,   185] loss: 0.000\n",
      "[2,   190] loss: 0.000\n",
      "[2,   195] loss: 0.000\n",
      "[2,   200] loss: 0.000\n",
      "[2,   205] loss: 0.000\n",
      "[2,   210] loss: 0.000\n",
      "[2,   215] loss: 0.000\n",
      "[2,   220] loss: 0.000\n",
      "[2,   225] loss: 0.000\n",
      "[2,   230] loss: 0.000\n",
      "[2,   235] loss: 0.000\n",
      "[2,   240] loss: 0.000\n",
      "[2,   245] loss: 0.000\n",
      "[2,   250] loss: 0.000\n",
      "[2,   255] loss: 0.000\n",
      "[2,   260] loss: 0.000\n",
      "[2,   265] loss: 0.000\n",
      "[2,   270] loss: 0.000\n",
      "[2,   275] loss: 0.000\n",
      "[2,   280] loss: 0.000\n",
      "[2,   285] loss: 0.000\n",
      "[2,   290] loss: 0.000\n",
      "[2,   295] loss: 0.000\n",
      "[2,   300] loss: 0.000\n",
      "[2,   305] loss: 0.000\n",
      "[2,   310] loss: 0.000\n",
      "[2,   315] loss: 0.000\n",
      "[2,   320] loss: 0.000\n",
      "[2,   325] loss: 0.000\n"
     ]
    }
   ],
   "source": [
    "train_model(model, trainloader, optimizer, 2)\n",
    "train_model(model_ft_all, trainloader, optimizer_ft_all, 2)\n"
   ]
  },
  {
   "cell_type": "markdown",
   "metadata": {
    "id": "NHleYtoc4rO-"
   },
   "source": [
    "We save the weights that we trained into the disk to be able to reload the models in case of a failure below:\n"
   ]
  },
  {
   "cell_type": "code",
   "execution_count": 16,
   "metadata": {
    "id": "Ia42BkJdW2GC"
   },
   "outputs": [],
   "source": [
    "torch.save(model.state_dict(), 'model_weights_fc_finetune.pth')\n",
    "torch.save(model_ft_all.state_dict(), 'model_weights_full_finetune.pth')"
   ]
  },
  {
   "cell_type": "markdown",
   "metadata": {
    "id": "yOIiMpy95bLQ"
   },
   "source": [
    "(Optional) Use code below for reloading the finetuned weights in case of a failure."
   ]
  },
  {
   "cell_type": "code",
   "execution_count": null,
   "metadata": {
    "id": "0T_RrdLKh74g"
   },
   "outputs": [],
   "source": [
    "model.load_state_dict(torch.load(\"model_weights_fc_finetune.pth\"))\n",
    "model.eval()\n",
    "model_ft_all.load_state_dict(torch.load(\"model_weights_full_finetune.pth\"))\n",
    "model_ft_all.eval()\n"
   ]
  },
  {
   "cell_type": "code",
   "execution_count": 22,
   "metadata": {
    "id": "DXmaQrnUl-jw"
   },
   "outputs": [],
   "source": [
    "from sklearn.metrics import confusion_matrix\n",
    "def test_model(model, dataloader):\n",
    "  model.to(device)\n",
    "  model.eval() # setting the model for evaluation\n",
    "  proc_dataloader = torch.utils.data.DataLoader(dataloader.dataset, \n",
    "                                                batch_size=batch_size, \n",
    "                                                num_workers=2,\n",
    "                                                drop_last=True)\n",
    "  preds_arr = np.array([])\n",
    "  labels_arr = np.array([])\n",
    "  dataset_size = len(proc_dataloader.dataset)\n",
    "  dataiter = iter(proc_dataloader)\n",
    "  for image, label in dataiter:\n",
    "    outputs = model(image.to(device))\n",
    "    _, predicted = torch.max(outputs, 1)\n",
    "    preds_arr = np.concatenate((preds_arr, predicted.to(\"cpu\")))\n",
    "    labels_arr = np.concatenate((labels_arr, label.to(\"cpu\")))\n",
    "  return confusion_matrix(labels_arr, preds_arr)"
   ]
  },
  {
   "cell_type": "code",
   "execution_count": 23,
   "metadata": {
    "id": "i3mCetfKncfy"
   },
   "outputs": [],
   "source": [
    "mod_mx = test_model(model, testloader)\n",
    "mod_fa_mx = test_model(model_ft_all, testloader)"
   ]
  },
  {
   "cell_type": "code",
   "execution_count": 32,
   "metadata": {
    "colab": {
     "base_uri": "https://localhost:8080/",
     "height": 684
    },
    "id": "hvPOUBGZgs_h",
    "outputId": "153b7afe-9491-477c-ca8d-b14d9c503213"
   },
   "outputs": [
    {
     "name": "stdout",
     "output_type": "stream",
     "text": [
      "[[394   0   0   0   2   0   0   0   3   6]\n",
      " [  2 306   0   0  11   0   0   1   0   2]\n",
      " [  0   2 582   0   3   0   0   0   0   2]\n",
      " [  0   0   1 335   7   2  10  16   0   2]\n",
      " [  0   2   2   1 987   0   4   8   2   4]\n",
      " [  0   0   0   2   4 265   6   2   0   3]\n",
      " [  1   2   0   4   6   0 498   5   0   0]\n",
      " [  1   0   3   5   8   0   1 345   0   2]\n",
      " [ 18   0   1   0   3   0   1   2 944   6]\n",
      " [  0   2   2   0   2   0   0   1   0 340]]\n"
     ]
    },
    {
     "data": {
      "image/png": "[encoded data removed]",
      "text/plain": [
       "<Figure size 842.4x595.44 with 2 Axes>"
      ]
     },
     "metadata": {},
     "output_type": "display_data"
    }
   ],
   "source": [
    "import seaborn as sns\n",
    "sns.set(rc={'figure.figsize':(11.7,8.27)})\n",
    "sns.heatmap(mod_fa_mx)\n",
    "print(mod_fa_mx)"
   ]
  },
  {
   "cell_type": "markdown",
   "metadata": {
    "id": "9_SHrexGNWFC"
   },
   "source": [
    "As we can see from the heatmap, we can say our model is working pretty well and the heatmap failed to visualize the confusion matrix. The false amount of false classifications is relatively low, we can say our network is running well."
   ]
  },
  {
   "cell_type": "code",
   "execution_count": 34,
   "metadata": {
    "colab": {
     "base_uri": "https://localhost:8080/"
    },
    "id": "R7f1GHfPOXXP",
    "outputId": "55e3faa0-f026-4e18-c66a-ca1261fe5e16"
   },
   "outputs": [
    {
     "name": "stdout",
     "output_type": "stream",
     "text": [
      "Accuracy of the \"model\": 93.84%\n",
      "Accuracy of the \"model_ft_all\": 95.85%\n"
     ]
    }
   ],
   "source": [
    "print('Accuracy of the \"model\": {:.2f}%'.format(np.mean(mod_mx.diagonal()/mod_mx.sum(axis=1) * 100)))\n",
    "print('Accuracy of the \"model_ft_all\": {:.2f}%'.format(np.mean(mod_fa_mx.diagonal()/mod_fa_mx.sum(axis=1) * 100)))\n"
   ]
  }
 ],
 "metadata": {
  "accelerator": "GPU",
  "colab": {
   "collapsed_sections": [],
   "name": "report.ipynb",
   "provenance": []
  },
  "interpreter": {
   "hash": "e8ee52e26650204a08c885461d142fd8f9417f3debf9f56bc8c004b34840a697"
  },
  "kernelspec": {
   "display_name": "Python 3 (ipykernel)",
   "language": "python",
   "name": "python3"
  },
  "language_info": {
   "codemirror_mode": {
    "name": "ipython",
    "version": 3
   },
   "file_extension": ".py",
   "mimetype": "text/x-python",
   "name": "python",
   "nbconvert_exporter": "python",
   "pygments_lexer": "ipython3",
   "version": "3.8.8"
  }
 },
 "nbformat": 4,
 "nbformat_minor": 1
}
